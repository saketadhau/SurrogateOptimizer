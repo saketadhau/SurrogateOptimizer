{
 "cells": [
  {
   "cell_type": "code",
   "execution_count": 1,
   "metadata": {},
   "outputs": [
    {
     "name": "stderr",
     "output_type": "stream",
     "text": [
      "Using TensorFlow backend.\n"
     ]
    }
   ],
   "source": [
    "import tensorflow as tf\n",
    "import pandas as pd\n",
    "import sklearn\n",
    "import matplotlib\n",
    "import keras\n",
    "import numpy as np\n",
    "import matplotlib.pyplot as plt\n",
    "import time\n",
    "\n",
    "# Import training data \n",
    "df = pd.read_csv('case3_data4.csv')\n",
    "\n",
    "dataset = df.values\n",
    "\n",
    "X = dataset[:,0:5]\n",
    "Y = dataset[:,5]\n",
    "Y1 = Y.reshape(-1, 1)\n"
   ]
  },
  {
   "cell_type": "code",
   "execution_count": 2,
   "metadata": {},
   "outputs": [
    {
     "name": "stdout",
     "output_type": "stream",
     "text": [
      "(749, 5) (250, 5) (749,) (250,)\n"
     ]
    }
   ],
   "source": [
    "# Note! scaling is not used for Gradient Boosting\n",
    "from sklearn import preprocessing\n",
    "min_max_scaler = preprocessing.MinMaxScaler()\n",
    "X_scale = min_max_scaler.fit_transform(X)\n",
    "\n",
    "Y_scale = min_max_scaler.fit_transform(Y1)\n",
    "\n",
    "# Split data into traning and validation sets\n",
    "from sklearn.model_selection import train_test_split\n",
    "X_train, X_val, Y_train, Y_val = train_test_split(X, Y, test_size=0.25)\n",
    "print(X_train.shape, X_val.shape, Y_train.shape, Y_val.shape)"
   ]
  },
  {
   "cell_type": "code",
   "execution_count": 3,
   "metadata": {},
   "outputs": [
    {
     "name": "stdout",
     "output_type": "stream",
     "text": [
      "Time for GBR fitting: 0.873\n",
      "Mean Squared Error for Gradient Boosting: 0.0003201523373310662\n"
     ]
    },
    {
     "data": {
      "text/plain": [
       "[<matplotlib.lines.Line2D at 0x1a4c949590>]"
      ]
     },
     "execution_count": 3,
     "metadata": {},
     "output_type": "execute_result"
    },
    {
     "data": {
      "image/png": "[encoded data removed]",
      "text/plain": [
       "<Figure size 432x288 with 1 Axes>"
      ]
     },
     "metadata": {
      "needs_background": "light"
     },
     "output_type": "display_data"
    }
   ],
   "source": [
    "# Fit Gradient Boosting \n",
    "from sklearn.ensemble import GradientBoostingRegressor\n",
    "\n",
    "gb = GradientBoostingRegressor(n_estimators=1000)\n",
    "\n",
    "stime = time.time()\n",
    "gb.fit(X_train, Y_train)\n",
    "print(\"Time for GBR fitting: %.3f\" % (time.time() - stime))\n",
    "X_val = X;\n",
    "Y_val = Y;\n",
    "Y_pred_gb = gb.predict(X_val)\n",
    "mae = np.mean(abs(Y_pred_gb - Y_val))\n",
    "mse = np.mean((Y_pred_gb - Y_val)**2)\n",
    "print('Mean Squared Error for Gradient Boosting:', mse)\n",
    "\n",
    "plt.plot(Y_val,Y_val)\n",
    "plt.plot(Y_val,Y_pred_gb,'.')"
   ]
  },
  {
   "cell_type": "code",
   "execution_count": 4,
   "metadata": {},
   "outputs": [],
   "source": [
    "# ------------ Closed-loop testing starts here ! --------------\n",
    "# import and initialize model \n",
    "import Model as HEx\n",
    "class parameters():\n",
    "    T0=60      \n",
    "    w0=100    \n",
    "    wh1=30    \n",
    "    wh2=50     \n",
    "    Th1=120   \n",
    "    Th2=220    \n",
    "    UA1=50  \n",
    "    UA2=80 \n",
    "    \n",
    "par = parameters()\n",
    "\n",
    "# initial operating point\n",
    "u = 0.5\n",
    "y = np.array([60,85.714,158.46,220,0.5])\n",
    "y = y.reshape(1,-1)\n"
   ]
  },
  {
   "cell_type": "code",
   "execution_count": 5,
   "metadata": {},
   "outputs": [
    {
     "name": "stdout",
     "output_type": "stream",
     "text": [
      "============================\n",
      "True optimum\n",
      "Cost J      : 125.4591\n",
      "Input u     : 0.2348\n",
      "----------------------------\n",
      "Converged values\n",
      "Cost J      : [125.42605096]\n",
      "Input u     : [0.21174687]\n",
      "============================\n"
     ]
    }
   ],
   "source": [
    "# closed loop iteration \n",
    "J = []\n",
    "U = []\n",
    "Ju = []\n",
    "u = 0.5\n",
    "for i in range(50):\n",
    "    u = gb.predict(y)\n",
    "    meas = HEx.hex_output(u,par)\n",
    "    y = np.array([meas[0],meas[7],meas[2],meas[4],u])\n",
    "    y = y.reshape(1,-1)\n",
    "    J.append(meas[7])\n",
    "    U.append(u)\n",
    "    \n",
    "\n",
    "print('============================')\n",
    "print('True optimum')\n",
    "print('Cost J      : 125.4591')\n",
    "print('Input u     : 0.2348')\n",
    "print('----------------------------')\n",
    "print('Converged values')\n",
    "print('Cost J      :', meas[7])\n",
    "print('Input u     :', u)\n",
    "print('============================')"
   ]
  },
  {
   "cell_type": "code",
   "execution_count": 6,
   "metadata": {},
   "outputs": [
    {
     "data": {
      "text/plain": [
       "[<matplotlib.lines.Line2D at 0x1a4cd75610>]"
      ]
     },
     "execution_count": 6,
     "metadata": {},
     "output_type": "execute_result"
    },
    {
     "data": {
      "image/png": "[encoded data removed]",
      "text/plain": [
       "<Figure size 432x432 with 2 Axes>"
      ]
     },
     "metadata": {
      "needs_background": "light"
     },
     "output_type": "display_data"
    }
   ],
   "source": [
    "# plot results \n",
    "\n",
    "fig, (ax1, ax2) = plt.subplots(nrows=2, ncols=1,\n",
    "                                       sharex=False, figsize=(6, 6))\n",
    "ax1.set_title('J')\n",
    "ax1.plot(J)\n",
    "\n",
    "ax2.set_title('u')\n",
    "ax2.plot(U)\n"
   ]
  },
  {
   "cell_type": "code",
   "execution_count": null,
   "metadata": {},
   "outputs": [],
   "source": []
  }
 ],
 "metadata": {
  "kernelspec": {
   "display_name": "Python 3",
   "language": "python",
   "name": "python3"
  },
  "language_info": {
   "codemirror_mode": {
    "name": "ipython",
    "version": 3
   },
   "file_extension": ".py",
   "mimetype": "text/x-python",
   "name": "python",
   "nbconvert_exporter": "python",
   "pygments_lexer": "ipython3",
   "version": "3.7.6"
  }
 },
 "nbformat": 4,
 "nbformat_minor": 4
}
